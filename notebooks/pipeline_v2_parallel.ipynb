{
 "cells": [
  {
   "cell_type": "code",
   "execution_count": 1,
   "id": "fb243ad8",
   "metadata": {},
   "outputs": [],
   "source": [
    "import sys\n",
    "\n",
    "sys.path.append('../terrain-erosion-3-ways/')\n",
    "from river_network import *\n",
    "\n",
    "sys.path.append(\"../pipeline\")\n",
    "from svg_extraction import SVGExtractor\n",
    "from svg_extraction import (\n",
    "    get_city_coordinates, get_island_coordinates, \n",
    "    get_orthogonal_samples)\n",
    "from image_ops import flood_image\n",
    "from skimage.segmentation import flood, flood_fill\n",
    "\n",
    "\n",
    "import numpy as np\n",
    "\n",
    "from omegaconf import OmegaConf\n",
    "\n",
    "import matplotlib.pyplot as plt\n",
    "import png\n",
    "import PIL\n",
    "\n",
    "import ipywidgets as widgets\n",
    "from IPython.display import display\n",
    "import glob\n",
    "\n",
    "import subprocess\n",
    "import functools\n",
    "from multiprocessing import Pool\n",
    "\n",
    "import logging\n",
    "logger = logging.getLogger()\n",
    "logger.setLevel(logging.INFO)"
   ]
  },
  {
   "cell_type": "code",
   "execution_count": 2,
   "id": "0ee9e497",
   "metadata": {},
   "outputs": [
    {
     "data": {
      "application/vnd.jupyter.widget-view+json": {
       "model_id": "4386e83e2ea8493bb2565abb99af3912",
       "version_major": 2,
       "version_minor": 0
      },
      "text/plain": [
       "Dropdown(description='svg:', options=('../svgs/107.svg', '../svgs/79.svg', '../svgs/84.svg', '../svgs/145.svg'…"
      ]
     },
     "metadata": {},
     "output_type": "display_data"
    }
   ],
   "source": [
    "realm_selection = widgets.Dropdown(\n",
    "    options=glob.glob(\"../svgs/*.svg\"),\n",
    "    description='svg:',\n",
    "    disabled=False,\n",
    ")\n",
    "display(realm_selection)"
   ]
  },
  {
   "cell_type": "code",
   "execution_count": 3,
   "id": "487bf92c",
   "metadata": {},
   "outputs": [],
   "source": [
    "def filter_within_bounds(coordinates, width, height, pad):\n",
    "    filtered_centers = []\n",
    "    for co in coordinates:\n",
    "        if 0 <= co[0]-pad < width and 0 <= co[1]-pad < height:\n",
    "            filtered_centers.append(co)\n",
    "        else:\n",
    "            logging.warning(f\"out of bounds coordinate!: {co}\")\n",
    "    return filtered_centers\n",
    "\n",
    "def generate_terrain(\n",
    "    mask,\n",
    "    disc_radius=4.,\n",
    "    max_delta=0.05,\n",
    "    river_downcutting_constant=1.3,\n",
    "    directional_inertia=0.1,\n",
    "    default_water_level=1.0,\n",
    "    evaporation_rate=0.1,\n",
    "    coastal_dropoff=50., # high: very small slope towards sea, low: abrupt change to sea\n",
    "    mountain_sigma=1.0,\n",
    "    lakes_alpha=0.1\n",
    "):\n",
    "    dim = mask.shape[0]\n",
    "    shape = (dim,) * 2\n",
    "    print('  ...initial terrain shape')\n",
    "    land_mask = remove_lakes(\n",
    "      (util.fbm(shape, -2, lower=2.0) + bump(shape, 0.2 * dim) - lakes_alpha) > 0)\n",
    "    land_mask = mask > 0\n",
    "    coastal_dropoff = np.tanh(util.dist_to_mask(land_mask) / coastal_dropoff) * land_mask\n",
    "    mountain_shapes = util.fbm(shape, -2, lower=2.0, upper=np.inf)\n",
    "    initial_height = ( \n",
    "      (util.gaussian_blur(np.maximum(mountain_shapes - 0.4, 0.0), sigma=mountain_sigma) \n",
    "        + 0.1) * coastal_dropoff)\n",
    "    deltas = util.normalize(np.abs(util.gaussian_gradient(initial_height))) \n",
    "\n",
    "    print('  ...sampling points')\n",
    "    points = util.poisson_disc_sampling(shape, disc_radius)\n",
    "    coords = np.floor(points).astype(int)\n",
    "\n",
    "    print('  ...delaunay triangulation')\n",
    "    tri = sp.spatial.Delaunay(points)\n",
    "    (indices, indptr) = tri.vertex_neighbor_vertices\n",
    "    neighbors = [indptr[indices[k]:indices[k + 1]] for k in range(len(points))]\n",
    "    points_land = land_mask[coords[:, 0], coords[:, 1]]\n",
    "    points_deltas = deltas[coords[:, 0], coords[:, 1]]\n",
    "\n",
    "    print('  ...initial height map')\n",
    "    points_height = compute_height(points, neighbors, points_deltas)\n",
    "\n",
    "    print('  ...river network')\n",
    "    (upstream, downstream, volume) = compute_river_network(\n",
    "      points, neighbors, points_height, points_land,\n",
    "      directional_inertia, default_water_level, evaporation_rate)\n",
    "\n",
    "    print('  ...final terrain height')\n",
    "    new_height = compute_final_height(\n",
    "      points, neighbors, points_deltas, volume, upstream, \n",
    "      max_delta, river_downcutting_constant)\n",
    "    return render_triangulation(shape, tri, new_height)\n",
    "\n",
    "def run_pipeline(realm_path, config, debug=True):\n",
    "    # set some often-used parameters\n",
    "    svgp = config.svg.padding\n",
    "    debug_img_size = (10,10)\n",
    "    \n",
    "    realm_number = realm_path.split(\"/\")[-1][:-4]\n",
    "    logging.info(f\"Processing realm number: {realm_number}\")\n",
    "    \n",
    "    logger.setLevel(logging.INFO)\n",
    "    logger.info(\"Setting up extractor\")\n",
    "    extractor = SVGExtractor(realm_path, scale=config.svg.scaling)\n",
    "    logger.info(\"\\___Done\")\n",
    "    if debug:\n",
    "        extractor.show(debug_img_size)\n",
    "        \n",
    "    logger.info(\"Extracting coast\")\n",
    "    coast_drawing = extractor.coast()\n",
    "    coast_img = extractor.get_img()\n",
    "    logger.info(\"\\___Done\")\n",
    "    \n",
    "    #############################################\n",
    "    # MASKING\n",
    "    #############################################\n",
    "    \n",
    "    logger.info(\"Starting ground-sea mask logic\")\n",
    "    \n",
    "    logger.info(\"----Calculating island centers\")\n",
    "    island_centers = get_island_coordinates(\n",
    "        coast_drawing,\n",
    "        scaling=config.svg.scaling\n",
    "    )\n",
    "    logger.info(\"    \\___Done\")\n",
    "    \n",
    "    logger.info(\"----Extracting city centers\")\n",
    "    city_drawing = extractor.cities()\n",
    "    city_centers = get_city_coordinates(\n",
    "        city_drawing,\n",
    "        scaling=config.svg.scaling\n",
    "    )\n",
    "    logger.info(\"    \\___Done\")\n",
    "    \n",
    "    # some small checks\n",
    "    logger.info(\"----Filtering centers\")\n",
    "    logger.info(\"--------Filtering island centers\")\n",
    "    island_centers = filter_within_bounds(island_centers, coast_drawing.width, coast_drawing.height, svgp)\n",
    "    logger.info(\"        \\___Done\")\n",
    "    logger.info(\"--------Filtering city centers\")\n",
    "    city_centers = filter_within_bounds(city_centers, city_drawing.width, city_drawing.height, svgp)\n",
    "    logger.info(\"        \\___Done\")\n",
    "    \n",
    "    if debug:\n",
    "        plt.figure(figsize=debug_img_size)\n",
    "        plt.title(\"coast image with island centers (red) and city centers (green)\")\n",
    "        plt.imshow(coast_img)\n",
    "        for center in island_centers:\n",
    "            plt.plot(center[1], center[0], 'ro')\n",
    "        for center in city_centers:\n",
    "            plt.plot(center[1], center[0], 'go')\n",
    "            \n",
    "    logger.info(\"----Cropping and flooding areas\")\n",
    "    flooded_image = flood_image(\n",
    "        coast_img,\n",
    "        [*city_centers, *island_centers], \n",
    "        config.svg.padding\n",
    "    )\n",
    "    logger.info(\"    \\___Done\")\n",
    "    \n",
    "    if debug:\n",
    "        plt.figure(figsize=debug_img_size)\n",
    "        plt.title(\"Cropped and flooded image\")\n",
    "        plt.imshow(flooded_image)\n",
    "        plt.show()\n",
    "\n",
    "    logger.info(\"----Refining flooded image\")\n",
    "    if debug:\n",
    "        plt.figure(figsize=debug_img_size)\n",
    "        plt.title(\"sampling locations for refining mask + found centers\")\n",
    "        plt.imshow(flooded_image)\n",
    "        \n",
    "    refined_flooded_image = flooded_image.copy()\n",
    "        \n",
    "    for path_group in coast_drawing.contents[0].contents:\n",
    "        path = path_group.contents[0]\n",
    "        samples1, samples2 = get_orthogonal_samples(path, scaling=config.svg.scaling)\n",
    "        samples1, samples2 = np.vstack(samples1), np.vstack(samples2)\n",
    "            \n",
    "        aggr = []\n",
    "        for (s1, s2) in zip(samples1, samples2):\n",
    "            x1, y1 = int(s1[0]-svgp), int(s1[1]-svgp)\n",
    "            x2, y2 = int(s2[0]-svgp), int(s2[1]-svgp)\n",
    "            # only add colors if BOTH orthogonals are within bounds\n",
    "            if 0 <= x1 < flooded_image.shape[0] and 0 <= y1 < flooded_image.shape[1]:\n",
    "                if 0 <= x2 < flooded_image.shape[0] and 0 <= y2 < flooded_image.shape[1]:\n",
    "                    aggr.append((flooded_image[y1,x1], flooded_image[y2,x2]))\n",
    "\n",
    "        if len(aggr) > 3:\n",
    "            aggr = np.vstack(aggr)\n",
    "            aggr = np.mean(np.abs(aggr[:,0]-aggr[:,1]))\n",
    "            if aggr < 10:\n",
    "                center = np.mean(samples1-svgp, axis=0)\n",
    "                center = np.clip(center, 0, flooded_image.shape[0]-1)\n",
    "                refined_flooded_image = flood_fill(\n",
    "                    refined_flooded_image,\n",
    "                    (int(center[1]), int(center[0])),\n",
    "                    0)\n",
    "                if debug:\n",
    "                    plt.plot(center[0], center[1], 'go', markersize=5)\n",
    "        if debug:\n",
    "            plt.plot(samples1[:,0]-svgp, samples1[:,1]-svgp, 'ro', markersize=1)\n",
    "            plt.plot(samples2[:,0]-svgp, samples2[:,1]-svgp, 'ro', markersize=1)\n",
    "    if debug:\n",
    "        plt.figure(figsize=debug_img_size)\n",
    "        plt.title(\"refined flooded image\")\n",
    "        plt.imshow(refined_flooded_image)\n",
    "        plt.show()\n",
    "    logger.info(\"    \\___Done\")\n",
    "    \n",
    "    logger.info(\"----Extracting rivers\")\n",
    "    extractor.rivers()\n",
    "    rivers = np.asarray(extractor.get_img())[svgp:-svgp,svgp:-svgp,0] # rivers is now [0,255]\n",
    "\n",
    "    rivers = skimage.filters.gaussian(rivers, sigma=1.5) # rivers is now [0,1]\n",
    "    rivers = (rivers < 0.99)*255\n",
    "    \n",
    "    if debug:\n",
    "        plt.figure(figsize=debug_img_size)\n",
    "        plt.title(\"rivers\")\n",
    "        plt.imshow(rivers)\n",
    "        plt.show()\n",
    "    logger.info(\"    \\___Done\")\n",
    "    \n",
    "    logger.info(\"----Extracting rivers\")\n",
    "    final_mask = (np.logical_or(flooded_image, rivers)-1)*-255\n",
    "    anti_final_mask = final_mask*-1+255\n",
    "    if debug:\n",
    "        plt.figure(figsize=debug_img_size)\n",
    "        plt.title(\"final water\")\n",
    "        plt.imshow(final_mask)\n",
    "        plt.show()\n",
    "    logger.info(\"    \\___Done\")\n",
    "    \n",
    "    #############################################\n",
    "    # GENERATION\n",
    "    #############################################\n",
    "\n",
    "    logger.info(\"----Terrain generation\")\n",
    "    wpad = config.terrain.water_padding\n",
    "    wp = np.zeros(\n",
    "        (final_mask.shape[0]+2*wpad,\n",
    "         final_mask.shape[1]+2*wpad))\n",
    "    wp[wpad:-wpad,wpad:-wpad] = final_mask\n",
    "    final_mask=wp\n",
    "    terrain_height = generate_terrain(final_mask)\n",
    "    if debug:\n",
    "        plt.figure(figsize=debug_img_size)\n",
    "        plt.title(\"terrain height\")\n",
    "        plt.imshow(terrain_height)\n",
    "        plt.show()\n",
    "    logger.info(\"    \\___Done\")\n",
    "    \n",
    "    logger.info(\"----Underwater generation\")\n",
    "    wpad = config.terrain.water_padding\n",
    "    wp = np.ones(\n",
    "        (anti_final_mask.shape[0]+2*wpad,\n",
    "         anti_final_mask.shape[1]+2*wpad))*255\n",
    "    wp[wpad:-wpad,wpad:-wpad] = anti_final_mask\n",
    "    anti_final_mask=wp\n",
    "    water_depth = generate_terrain(anti_final_mask)\n",
    "    if debug:\n",
    "        plt.figure(figsize=debug_img_size)\n",
    "        plt.title(\"water depth\")\n",
    "        plt.imshow(water_depth)\n",
    "        plt.show()\n",
    "    logger.info(\"    \\___Done\")\n",
    "    \n",
    "    logger.info(\"----Combining terrain and water heights\")\n",
    "    m1 = final_mask[wpad:-wpad,wpad:-wpad]\n",
    "    _m1 = m1 < 255\n",
    "    m2 = terrain_height[wpad:-wpad,wpad:-wpad]\n",
    "    m3 = water_depth[wpad:-wpad,wpad:-wpad]\n",
    "    combined = m2 - 0.2*_m1*m3\n",
    "    if debug:\n",
    "        plt.figure(figsize=debug_img_size)\n",
    "        plt.title(\"combined map\")\n",
    "        plt.imshow(combined)\n",
    "        plt.show()\n",
    "    logger.info(\"    \\___Done\")\n",
    "    \n",
    "    #############################################\n",
    "    # EXPORT 1\n",
    "    #############################################\n",
    "    \n",
    "    logger.info(\"Exporting height map\")\n",
    "    qmap = (combined-combined.min())/(combined.max()-combined.min())\n",
    "    qmap = (qmap*255).astype(np.uint8)\n",
    "    qimg = PIL.Image.fromarray(qmap).convert('L')\n",
    "    qimg = qimg.resize(\n",
    "        (config.export.size, config.export.size),\n",
    "        PIL.Image.NEAREST\n",
    "    )\n",
    "    qimg.save(f\"../output/height_{realm_number}.png\")\n",
    "    logger.info(\"\\___Done\")\n",
    "    \n",
    "    #############################################\n",
    "    # COLORING\n",
    "    #############################################\n",
    "    \n",
    "    logger.info(\"Coloring\")\n",
    "    plt.hist(combined.flatten(), bins=50)[2]\n",
    "    def get_color(height):\n",
    "        if height > .7:\n",
    "            return np.array([230, 230, 230]) #white\n",
    "        if height > .5:\n",
    "            return np.array([158, 158, 158]) #grey\n",
    "        if height > .4:\n",
    "            return np.array([120, 174, 106]) #green\n",
    "        if height > .23:\n",
    "            return np.array([120, 154, 106]) #green\n",
    "        if height > .15:\n",
    "            return np.array([100,  100,  76]) #brown\n",
    "        if height > .0:\n",
    "            return np.array([100,  76,  76]) #brown\n",
    "        return np.array([  20,   50, 160]) #blue\n",
    "\n",
    "    colorqmap = np.zeros((*combined.shape, 3))\n",
    "    \n",
    "    extractor.rivers()\n",
    "    rivers = np.asarray(extractor.get_img())[svgp:-svgp,svgp:-svgp,0]\n",
    "    rivers = (rivers<255)*1\n",
    "#     sea_level = water_level_1+water_level_2\n",
    "    for x in range(combined.shape[0]):\n",
    "        for y in range(combined.shape[1]):\n",
    "            colorqmap[x,y,:] = get_color(combined[x,y])\n",
    "            if rivers[x, y] > 0:\n",
    "                colorqmap[x,y,:] = np.array([  20,   50, 160])\n",
    "    if debug:\n",
    "        plt.imshow(colorqmap/255)\n",
    "        plt.show()\n",
    "    logger.info(\"\\___Done\")\n",
    "    \n",
    "    #############################################\n",
    "    # EXPORT 2\n",
    "    #############################################\n",
    "    \n",
    "    logger.info(\"Exporting color map\")\n",
    "    colorqmap_export = colorqmap.astype(np.uint8)\n",
    "    colorqmap_export = PIL.Image.fromarray(colorqmap_export)\n",
    "    colorqmap_export = colorqmap_export.resize(\n",
    "        (config.export.size, config.export.size),\n",
    "        PIL.Image.NEAREST\n",
    "    )\n",
    "    colorqmap_export.save(f\"../output/color_{realm_number}.png\")\n",
    "    logger.info(\"\\___Done\")\n",
    "    \n",
    "    #############################################\n",
    "    # CONVERSION TO VOX\n",
    "    #############################################\n",
    "    subprocess.run([\n",
    "        \"wine\",\n",
    "        \"../FileToVox-v1.13-win/FileToVox.exe\",\n",
    "        \"--i\", f\"../output/height_{realm_number}.png\",\n",
    "        \"--o\", f\"../MagicaVoxel-0.99.6.4-win64/vox/{realm_number}\",\n",
    "        \"--hm=40\",\n",
    "        \"--c\", \"--cm\", f\"../output/color_{realm_number}.png\",\n",
    "    ])"
   ]
  },
  {
   "cell_type": "code",
   "execution_count": 4,
   "id": "aca4acdf",
   "metadata": {
    "scrolled": false
   },
   "outputs": [],
   "source": [
    "# config = OmegaConf.load(\"../pipeline/config.yaml\")\n",
    "\n",
    "# run_pipeline(realm_selection.value, config)"
   ]
  },
  {
   "cell_type": "code",
   "execution_count": 5,
   "id": "031b76e0",
   "metadata": {},
   "outputs": [],
   "source": [
    "# config = OmegaConf.load(\"../pipeline/config.yaml\")\n",
    "# for svg in glob.glob(\"../svgs/*.svg\"):\n",
    "#     run_pipeline(svg, config, debug=True)"
   ]
  },
  {
   "cell_type": "code",
   "execution_count": 6,
   "id": "b8ba0dda",
   "metadata": {
    "scrolled": true
   },
   "outputs": [
    {
     "name": "stderr",
     "output_type": "stream",
     "text": [
      "INFO:root:Processing realm number: 145INFO:root:Processing realm number: 107INFO:root:Processing realm number: 79INFO:root:Processing realm number: 87INFO:root:Processing realm number: 84\n",
      "INFO:root:Processing realm number: 70\n",
      "\n",
      "\n",
      "\n",
      "INFO:root:Setting up extractor\n",
      "INFO:root:Setting up extractorINFO:root:Setting up extractorINFO:root:Setting up extractorINFO:root:Setting up extractorINFO:root:Setting up extractor\n",
      "\n",
      "\n",
      "\n",
      "\n",
      "\n",
      "INFO:root:\\___Done\n",
      "INFO:root:Extracting coast\n",
      "INFO:root:\\___Done\n",
      "INFO:root:Extracting coast\n",
      "INFO:root:\\___Done\n",
      "INFO:root:Extracting coast\n",
      "INFO:root:\\___Done\n",
      "INFO:root:Extracting coast\n",
      "INFO:root:\\___Done\n",
      "INFO:root:Extracting coast\n",
      "INFO:root:\\___Done\n",
      "INFO:root:Extracting coast\n",
      "INFO:root:\\___Done\n",
      "INFO:root:Starting ground-sea mask logic\n",
      "INFO:root:----Calculating island centers\n",
      "INFO:root:    \\___Done\n",
      "INFO:root:----Extracting city centers\n",
      "INFO:root:\\___Done\n",
      "INFO:root:Starting ground-sea mask logic\n",
      "INFO:root:----Calculating island centers\n",
      "INFO:root:    \\___Done\n",
      "INFO:root:----Extracting city centers\n",
      "INFO:root:\\___Done\n",
      "INFO:root:Starting ground-sea mask logic\n",
      "INFO:root:----Calculating island centers\n",
      "INFO:root:    \\___Done\n",
      "INFO:root:----Extracting city centers\n",
      "INFO:root:    \\___Done\n",
      "INFO:root:----Filtering centers\n",
      "INFO:root:--------Filtering island centers\n",
      "INFO:root:        \\___Done\n",
      "INFO:root:--------Filtering city centers\n",
      "INFO:root:        \\___Done\n",
      "INFO:root:----Cropping and flooding areas\n",
      "INFO:root:    \\___Done\n",
      "INFO:root:----Refining flooded image\n",
      "INFO:root:    \\___Done\n",
      "INFO:root:----Extracting rivers\n",
      "INFO:root:\\___Done\n",
      "INFO:root:Starting ground-sea mask logic\n",
      "INFO:root:----Calculating island centers\n",
      "INFO:root:    \\___Done\n",
      "INFO:root:----Extracting city centers\n",
      "INFO:root:    \\___Done\n",
      "INFO:root:----Filtering centers\n",
      "INFO:root:--------Filtering island centers\n",
      "INFO:root:        \\___Done\n",
      "INFO:root:--------Filtering city centers\n",
      "INFO:root:        \\___Done\n",
      "INFO:root:----Cropping and flooding areas\n",
      "INFO:root:    \\___Done\n",
      "INFO:root:----Refining flooded image\n",
      "INFO:root:    \\___Done\n",
      "INFO:root:----Extracting rivers\n",
      "INFO:root:    \\___Done\n",
      "INFO:root:----Filtering centers\n",
      "INFO:root:--------Filtering island centers\n",
      "INFO:root:        \\___Done\n",
      "INFO:root:--------Filtering city centers\n",
      "INFO:root:        \\___Done\n",
      "INFO:root:----Cropping and flooding areas\n",
      "INFO:root:    \\___Done\n",
      "INFO:root:----Refining flooded image\n",
      "INFO:root:    \\___Done\n",
      "INFO:root:----Extracting rivers\n",
      "INFO:root:    \\___Done\n",
      "INFO:root:----Extracting rivers\n",
      "INFO:root:    \\___Done\n",
      "INFO:root:----Terrain generation\n"
     ]
    },
    {
     "name": "stdout",
     "output_type": "stream",
     "text": [
      "  ...initial terrain shape\n"
     ]
    },
    {
     "name": "stderr",
     "output_type": "stream",
     "text": [
      "INFO:root:\\___Done\n",
      "INFO:root:Starting ground-sea mask logic\n",
      "INFO:root:----Calculating island centers\n",
      "INFO:root:    \\___Done\n",
      "INFO:root:----Extracting city centers\n"
     ]
    },
    {
     "name": "stdout",
     "output_type": "stream",
     "text": [
      "  ...sampling points\n"
     ]
    },
    {
     "name": "stderr",
     "output_type": "stream",
     "text": [
      "INFO:root:    \\___Done\n",
      "INFO:root:----Filtering centers\n",
      "INFO:root:--------Filtering island centers\n",
      "INFO:root:        \\___Done\n",
      "INFO:root:--------Filtering city centers\n",
      "INFO:root:        \\___Done\n",
      "INFO:root:----Cropping and flooding areas\n",
      "INFO:root:\\___Done\n",
      "INFO:root:Starting ground-sea mask logic\n",
      "INFO:root:----Calculating island centers\n",
      "INFO:root:    \\___Done\n",
      "INFO:root:----Extracting city centers\n",
      "INFO:root:    \\___Done\n",
      "INFO:root:----Refining flooded image\n",
      "INFO:root:    \\___Done\n",
      "INFO:root:----Extracting rivers\n",
      "INFO:root:    \\___Done\n",
      "INFO:root:----Extracting rivers\n",
      "INFO:root:    \\___Done\n",
      "INFO:root:----Terrain generation\n"
     ]
    },
    {
     "name": "stdout",
     "output_type": "stream",
     "text": [
      "  ...initial terrain shape\n"
     ]
    },
    {
     "name": "stderr",
     "output_type": "stream",
     "text": [
      "INFO:root:    \\___Done\n",
      "INFO:root:----Extracting rivers\n",
      "INFO:root:    \\___Done\n",
      "INFO:root:----Terrain generation\n"
     ]
    },
    {
     "name": "stdout",
     "output_type": "stream",
     "text": [
      "  ...initial terrain shape\n",
      "  ...sampling points\n",
      "  ...sampling points\n",
      "  ...delaunay triangulation\n",
      "  ...initial height map\n",
      "  ...river network\n",
      "  ...final terrain height\n"
     ]
    },
    {
     "name": "stderr",
     "output_type": "stream",
     "text": [
      "INFO:root:    \\___Done\n",
      "INFO:root:----Underwater generation\n"
     ]
    },
    {
     "name": "stdout",
     "output_type": "stream",
     "text": [
      "  ...initial terrain shape\n"
     ]
    },
    {
     "name": "stderr",
     "output_type": "stream",
     "text": [
      "INFO:root:    \\___Done\n",
      "INFO:root:----Filtering centers\n",
      "INFO:root:--------Filtering island centers\n",
      "INFO:root:        \\___Done\n",
      "INFO:root:--------Filtering city centers\n",
      "INFO:root:        \\___Done\n",
      "INFO:root:----Cropping and flooding areas\n"
     ]
    },
    {
     "name": "stdout",
     "output_type": "stream",
     "text": [
      "  ...sampling points\n"
     ]
    },
    {
     "name": "stderr",
     "output_type": "stream",
     "text": [
      "INFO:root:    \\___Done\n",
      "INFO:root:----Refining flooded image\n",
      "INFO:root:    \\___Done\n",
      "INFO:root:----Extracting rivers\n",
      "INFO:root:    \\___Done\n",
      "INFO:root:----Extracting rivers\n",
      "INFO:root:    \\___Done\n",
      "INFO:root:----Terrain generation\n"
     ]
    },
    {
     "name": "stdout",
     "output_type": "stream",
     "text": [
      "  ...initial terrain shape\n",
      "  ...delaunay triangulation\n",
      "  ...initial height map\n",
      "  ...river network\n",
      "  ...final terrain height\n",
      "  ...delaunay triangulation\n"
     ]
    },
    {
     "name": "stderr",
     "output_type": "stream",
     "text": [
      "INFO:root:    \\___Done\n",
      "INFO:root:----Underwater generation\n"
     ]
    },
    {
     "name": "stdout",
     "output_type": "stream",
     "text": [
      "  ...initial terrain shape\n",
      "  ...initial height map\n",
      "  ...sampling points\n",
      "  ...river network\n",
      "  ...final terrain height\n",
      "  ...sampling points\n"
     ]
    },
    {
     "name": "stderr",
     "output_type": "stream",
     "text": [
      "INFO:root:    \\___Done\n",
      "INFO:root:----Underwater generation\n"
     ]
    },
    {
     "name": "stdout",
     "output_type": "stream",
     "text": [
      "  ...initial terrain shape\n",
      "  ...sampling points\n"
     ]
    },
    {
     "name": "stderr",
     "output_type": "stream",
     "text": [
      "INFO:root:    \\___Done\n",
      "INFO:root:----Filtering centers\n",
      "INFO:root:--------Filtering island centers\n",
      "INFO:root:        \\___Done\n",
      "INFO:root:--------Filtering city centers\n",
      "INFO:root:        \\___Done\n",
      "INFO:root:----Cropping and flooding areas\n",
      "INFO:root:Processing realm number: 6\n",
      "INFO:root:Setting up extractor\n"
     ]
    },
    {
     "name": "stdout",
     "output_type": "stream",
     "text": [
      "  ...delaunay triangulation\n",
      "  ...initial height map\n",
      "  ...river network\n",
      "  ...final terrain height\n"
     ]
    },
    {
     "name": "stderr",
     "output_type": "stream",
     "text": [
      "INFO:root:    \\___Done\n",
      "INFO:root:----Combining terrain and water heights\n",
      "INFO:root:    \\___Done\n",
      "INFO:root:Exporting height map\n",
      "INFO:root:\\___Done\n",
      "INFO:root:Coloring\n",
      "INFO:root:    \\___Done\n",
      "INFO:root:----Extracting rivers\n",
      "INFO:root:    \\___Done\n",
      "INFO:root:----Terrain generation\n"
     ]
    },
    {
     "name": "stdout",
     "output_type": "stream",
     "text": [
      "  ...initial terrain shape\n",
      "  ...delaunay triangulation\n",
      "  ...initial height map\n",
      "  ...river network\n",
      "  ...final terrain height\n",
      "  ...sampling points\n",
      "  ...delaunay triangulation\n",
      "  ...initial height map\n",
      "  ...river network\n"
     ]
    },
    {
     "name": "stderr",
     "output_type": "stream",
     "text": [
      "INFO:root:    \\___Done\n",
      "INFO:root:----Underwater generation\n"
     ]
    },
    {
     "name": "stdout",
     "output_type": "stream",
     "text": [
      "  ...initial terrain shape\n",
      "  ...final terrain height\n"
     ]
    },
    {
     "name": "stderr",
     "output_type": "stream",
     "text": [
      "INFO:root:\\___Done\n",
      "INFO:root:Extracting coast\n",
      "INFO:root:    \\___Done\n",
      "INFO:root:----Combining terrain and water heights\n",
      "INFO:root:    \\___Done\n",
      "INFO:root:Exporting height map\n",
      "INFO:root:\\___Done\n",
      "INFO:root:Coloring\n"
     ]
    },
    {
     "name": "stdout",
     "output_type": "stream",
     "text": [
      "  ...delaunay triangulation\n",
      "  ...sampling points  ...initial height map\n",
      "\n",
      "  ...river network\n",
      "  ...final terrain height\n"
     ]
    },
    {
     "name": "stderr",
     "output_type": "stream",
     "text": [
      "INFO:root:\\___Done\n",
      "INFO:root:Exporting color map\n",
      "INFO:root:\\___Done\n",
      "INFO:root:    \\___Done\n",
      "INFO:root:----Combining terrain and water heights\n",
      "INFO:root:    \\___Done\n",
      "INFO:root:Exporting height map\n",
      "INFO:root:\\___Done\n",
      "INFO:root:Coloring\n",
      "INFO:root:Processing realm number: 55\n",
      "INFO:root:Setting up extractor\n"
     ]
    },
    {
     "name": "stdout",
     "output_type": "stream",
     "text": [
      "  ...delaunay triangulation\n",
      "  ...initial height map\n",
      "  ...river network\n",
      "  ...final terrain height\n"
     ]
    },
    {
     "name": "stderr",
     "output_type": "stream",
     "text": [
      "INFO:root:    \\___Done\n",
      "INFO:root:----Underwater generation\n"
     ]
    },
    {
     "name": "stdout",
     "output_type": "stream",
     "text": [
      "  ...initial terrain shape\n"
     ]
    },
    {
     "name": "stderr",
     "output_type": "stream",
     "text": [
      "INFO:root:\\___Done\n",
      "INFO:root:Extracting coast\n"
     ]
    },
    {
     "name": "stdout",
     "output_type": "stream",
     "text": [
      "  ...delaunay triangulation\n",
      "  ...initial height map\n",
      "  ...sampling points\n"
     ]
    },
    {
     "name": "stderr",
     "output_type": "stream",
     "text": [
      "INFO:root:\\___Done\n",
      "INFO:root:Exporting color map\n",
      "INFO:root:\\___Done\n"
     ]
    },
    {
     "name": "stdout",
     "output_type": "stream",
     "text": [
      "  ...river network\n",
      "  ...final terrain height\n"
     ]
    },
    {
     "name": "stderr",
     "output_type": "stream",
     "text": [
      "INFO:root:    \\___Done\n",
      "INFO:root:----Combining terrain and water heights\n",
      "INFO:root:    \\___Done\n",
      "INFO:root:Exporting height map\n",
      "INFO:root:\\___Done\n",
      "INFO:root:Coloring\n",
      "INFO:root:Processing realm number: 125\n",
      "INFO:root:Setting up extractor\n",
      "INFO:root:\\___Done\n",
      "INFO:root:Exporting color map\n",
      "INFO:root:\\___Done\n",
      "INFO:root:\\___Done\n",
      "INFO:root:Starting ground-sea mask logic\n",
      "INFO:root:----Calculating island centers\n",
      "INFO:root:    \\___Done\n",
      "INFO:root:----Extracting city centers\n",
      "INFO:root:Processing realm number: 75\n",
      "INFO:root:Setting up extractor\n",
      "INFO:root:\\___Done\n",
      "INFO:root:Starting ground-sea mask logic\n",
      "INFO:root:----Calculating island centers\n",
      "INFO:root:    \\___Done\n",
      "INFO:root:----Extracting city centers\n",
      "INFO:root:\\___Done\n",
      "INFO:root:Extracting coast\n"
     ]
    },
    {
     "name": "stdout",
     "output_type": "stream",
     "text": [
      "  ...delaunay triangulation\n",
      "  ...initial height map\n",
      "  ...river network\n",
      "  ...final terrain height\n"
     ]
    },
    {
     "name": "stderr",
     "output_type": "stream",
     "text": [
      "INFO:root:    \\___Done\n",
      "INFO:root:----Combining terrain and water heights\n",
      "INFO:root:    \\___Done\n",
      "INFO:root:Exporting height map\n",
      "INFO:root:\\___Done\n",
      "INFO:root:Coloring\n",
      "INFO:root:\\___Done\n",
      "INFO:root:Extracting coast\n",
      "INFO:root:\\___Done\n",
      "INFO:root:Exporting color map\n",
      "INFO:root:\\___Done\n",
      "INFO:root:    \\___Done\n",
      "INFO:root:----Filtering centers\n",
      "INFO:root:--------Filtering island centers\n",
      "INFO:root:        \\___Done\n",
      "INFO:root:--------Filtering city centers\n",
      "INFO:root:        \\___Done\n",
      "INFO:root:----Cropping and flooding areas\n",
      "INFO:root:    \\___Done\n",
      "INFO:root:----Refining flooded image\n",
      "INFO:root:    \\___Done\n",
      "INFO:root:----Extracting rivers\n",
      "INFO:root:    \\___Done\n",
      "INFO:root:----Filtering centers\n",
      "INFO:root:--------Filtering island centers\n",
      "INFO:root:        \\___Done\n",
      "INFO:root:--------Filtering city centers\n",
      "INFO:root:        \\___Done\n",
      "INFO:root:----Cropping and flooding areas\n",
      "INFO:root:    \\___Done\n",
      "INFO:root:----Refining flooded image\n",
      "INFO:root:    \\___Done\n",
      "INFO:root:----Extracting rivers\n",
      "INFO:root:\\___Done\n",
      "INFO:root:Starting ground-sea mask logic\n",
      "INFO:root:----Calculating island centers\n",
      "INFO:root:    \\___Done\n",
      "INFO:root:----Extracting city centers\n",
      "INFO:root:    \\___Done\n",
      "INFO:root:----Extracting rivers\n",
      "INFO:root:    \\___Done\n",
      "INFO:root:----Terrain generation\n"
     ]
    },
    {
     "name": "stdout",
     "output_type": "stream",
     "text": [
      "  ...initial terrain shape\n",
      "  ...sampling points\n"
     ]
    },
    {
     "name": "stderr",
     "output_type": "stream",
     "text": [
      "INFO:root:\\___Done\n",
      "INFO:root:Exporting color map\n",
      "INFO:root:\\___Done\n",
      "INFO:root:\\___Done\n",
      "INFO:root:Starting ground-sea mask logic\n",
      "INFO:root:----Calculating island centers\n",
      "INFO:root:    \\___Done\n",
      "INFO:root:----Extracting city centers\n",
      "INFO:root:    \\___Done\n",
      "INFO:root:----Extracting rivers\n",
      "INFO:root:    \\___Done\n",
      "INFO:root:----Terrain generation\n"
     ]
    },
    {
     "name": "stdout",
     "output_type": "stream",
     "text": [
      "  ...initial terrain shape\n",
      "  ...delaunay triangulation\n"
     ]
    },
    {
     "name": "stderr",
     "output_type": "stream",
     "text": [
      "INFO:root:    \\___Done"
     ]
    },
    {
     "name": "stdout",
     "output_type": "stream",
     "text": [
      "  ...sampling points"
     ]
    },
    {
     "name": "stderr",
     "output_type": "stream",
     "text": [
      "\n"
     ]
    },
    {
     "name": "stdout",
     "output_type": "stream",
     "text": [
      "\n"
     ]
    },
    {
     "name": "stderr",
     "output_type": "stream",
     "text": [
      "INFO:root:----Filtering centers\n",
      "INFO:root:--------Filtering island centers\n",
      "INFO:root:        \\___Done\n",
      "INFO:root:--------Filtering city centers\n",
      "INFO:root:        \\___Done\n",
      "INFO:root:----Cropping and flooding areas\n"
     ]
    },
    {
     "name": "stdout",
     "output_type": "stream",
     "text": [
      "  ...initial height map\n"
     ]
    },
    {
     "name": "stderr",
     "output_type": "stream",
     "text": [
      "INFO:root:    \\___Done\n",
      "INFO:root:----Refining flooded image\n",
      "INFO:root:    \\___Done\n",
      "INFO:root:----Extracting rivers\n"
     ]
    },
    {
     "name": "stdout",
     "output_type": "stream",
     "text": [
      "  ...river network\n",
      "  ...final terrain height\n"
     ]
    },
    {
     "name": "stderr",
     "output_type": "stream",
     "text": [
      "INFO:root:    \\___Done\n",
      "INFO:root:----Underwater generation\n"
     ]
    },
    {
     "name": "stdout",
     "output_type": "stream",
     "text": [
      "  ...initial terrain shape\n",
      "  ...sampling points\n",
      "  ...delaunay triangulation\n",
      "  ...initial height map\n",
      "  ...river network\n"
     ]
    },
    {
     "name": "stderr",
     "output_type": "stream",
     "text": [
      "INFO:root:    \\___Done\n",
      "INFO:root:----Filtering centers\n",
      "INFO:root:--------Filtering island centers\n",
      "INFO:root:        \\___Done\n",
      "INFO:root:--------Filtering city centers\n",
      "INFO:root:        \\___Done\n",
      "INFO:root:----Cropping and flooding areas\n"
     ]
    },
    {
     "name": "stdout",
     "output_type": "stream",
     "text": [
      "  ...final terrain height\n"
     ]
    },
    {
     "name": "stderr",
     "output_type": "stream",
     "text": [
      "INFO:root:    \\___Done\n",
      "INFO:root:----Refining flooded image\n",
      "INFO:root:    \\___Done\n",
      "INFO:root:----Extracting rivers\n",
      "INFO:root:    \\___Done\n",
      "INFO:root:----Underwater generation\n"
     ]
    },
    {
     "name": "stdout",
     "output_type": "stream",
     "text": [
      "  ...initial terrain shape\n",
      "  ...delaunay triangulation\n",
      "  ...initial height map\n",
      "  ...sampling points\n",
      "  ...river network\n",
      "  ...final terrain height\n"
     ]
    },
    {
     "name": "stderr",
     "output_type": "stream",
     "text": [
      "INFO:root:    \\___Done\n",
      "INFO:root:----Combining terrain and water heights\n",
      "INFO:root:    \\___Done\n",
      "INFO:root:Exporting height map\n",
      "INFO:root:\\___Done\n",
      "INFO:root:Coloring\n",
      "INFO:root:    \\___Done\n",
      "INFO:root:----Extracting rivers\n",
      "INFO:root:    \\___Done\n",
      "INFO:root:----Terrain generation\n"
     ]
    },
    {
     "name": "stdout",
     "output_type": "stream",
     "text": [
      "  ...initial terrain shape\n",
      "  ...sampling points\n",
      "  ...delaunay triangulation\n",
      "  ...initial height map\n",
      "  ...river network\n",
      "  ...final terrain height\n"
     ]
    },
    {
     "name": "stderr",
     "output_type": "stream",
     "text": [
      "INFO:root:    \\___Done\n",
      "INFO:root:----Combining terrain and water heights\n",
      "INFO:root:    \\___Done\n",
      "INFO:root:Exporting height map\n",
      "INFO:root:\\___Done\n",
      "INFO:root:Coloring\n"
     ]
    },
    {
     "name": "stdout",
     "output_type": "stream",
     "text": [
      "  ...delaunay triangulation\n",
      "  ...initial height map\n",
      "  ...river network\n",
      "  ...final terrain height\n"
     ]
    },
    {
     "name": "stderr",
     "output_type": "stream",
     "text": [
      "INFO:root:\\___Done\n",
      "INFO:root:Exporting color map\n",
      "INFO:root:\\___Done\n",
      "INFO:root:    \\___Done\n",
      "INFO:root:----Extracting rivers\n",
      "INFO:root:    \\___Done\n",
      "INFO:root:----Terrain generation\n"
     ]
    },
    {
     "name": "stdout",
     "output_type": "stream",
     "text": [
      "  ...initial terrain shape\n"
     ]
    },
    {
     "name": "stderr",
     "output_type": "stream",
     "text": [
      "INFO:root:    \\___Done\n",
      "INFO:root:----Underwater generation\n"
     ]
    },
    {
     "name": "stdout",
     "output_type": "stream",
     "text": [
      "  ...initial terrain shape\n",
      "  ...sampling points\n",
      "  ...sampling points\n",
      "  ...delaunay triangulation\n",
      "  ...initial height map\n",
      "  ...river network\n",
      "  ...delaunay triangulation\n",
      "  ...initial height map\n",
      "  ...river network\n",
      "  ...final terrain height  ...final terrain height\n",
      "\n"
     ]
    },
    {
     "name": "stderr",
     "output_type": "stream",
     "text": [
      "INFO:root:    \\___Done\n",
      "INFO:root:----Combining terrain and water heights\n",
      "INFO:root:    \\___Done\n",
      "INFO:root:Exporting height map\n",
      "INFO:root:\\___Done\n",
      "INFO:root:Coloring\n",
      "INFO:root:    \\___Done\n",
      "INFO:root:----Underwater generation\n"
     ]
    },
    {
     "name": "stdout",
     "output_type": "stream",
     "text": [
      "  ...initial terrain shape\n",
      "  ...sampling points\n"
     ]
    },
    {
     "name": "stderr",
     "output_type": "stream",
     "text": [
      "INFO:root:\\___Done\n",
      "INFO:root:Exporting color map\n",
      "INFO:root:\\___Done\n"
     ]
    },
    {
     "name": "stdout",
     "output_type": "stream",
     "text": [
      "  ...delaunay triangulation\n",
      "  ...initial height map\n",
      "  ...river network\n",
      "  ...final terrain height\n"
     ]
    },
    {
     "name": "stderr",
     "output_type": "stream",
     "text": [
      "INFO:root:    \\___Done\n",
      "INFO:root:----Combining terrain and water heights\n",
      "INFO:root:    \\___Done\n",
      "INFO:root:Exporting height map\n",
      "INFO:root:\\___Done\n",
      "INFO:root:Coloring\n",
      "INFO:root:\\___Done\n",
      "INFO:root:Exporting color map\n",
      "INFO:root:\\___Done\n",
      "INFO:root:\\___Done\n",
      "INFO:root:Exporting color map\n",
      "INFO:root:\\___Done\n"
     ]
    },
    {
     "ename": "IndexError",
     "evalue": "index 706 is out of bounds for axis 0 with size 700",
     "output_type": "error",
     "traceback": [
      "\u001b[0;31m---------------------------------------------------------------------------\u001b[0m",
      "\u001b[0;31mRemoteTraceback\u001b[0m                           Traceback (most recent call last)",
      "\u001b[0;31mRemoteTraceback\u001b[0m: \n\"\"\"\nTraceback (most recent call last):\n  File \"/usr/lib/python3.6/multiprocessing/pool.py\", line 119, in worker\n    result = (True, func(*args, **kwds))\n  File \"/usr/lib/python3.6/multiprocessing/pool.py\", line 44, in mapstar\n    return list(map(*args))\n  File \"<ipython-input-3-41dccc91eb95>\", line 123, in run_pipeline\n    config.svg.padding\n  File \"../pipeline/image_ops.py\", line 23, in flood_image\n    data = flood_fill(data, cropped_center, 0)\n  File \"/home/raph/.local/share/virtualenvs/voxel_realms-eLBrrQyR/lib/python3.6/site-packages/skimage/morphology/_flood_fill.py\", line 115, in flood_fill\n    tolerance=tolerance)\n  File \"/home/raph/.local/share/virtualenvs/voxel_realms-eLBrrQyR/lib/python3.6/site-packages/skimage/morphology/_flood_fill.py\", line 227, in flood\n    seed_value = image[seed_point]\nIndexError: index 706 is out of bounds for axis 0 with size 700\n\"\"\"",
      "\nThe above exception was the direct cause of the following exception:\n",
      "\u001b[0;31mIndexError\u001b[0m                                Traceback (most recent call last)",
      "\u001b[0;32m<ipython-input-6-21112f408aa2>\u001b[0m in \u001b[0;36m<module>\u001b[0;34m\u001b[0m\n\u001b[1;32m      2\u001b[0m \u001b[0mf\u001b[0m \u001b[0;34m=\u001b[0m \u001b[0mfunctools\u001b[0m\u001b[0;34m.\u001b[0m\u001b[0mpartial\u001b[0m\u001b[0;34m(\u001b[0m\u001b[0mrun_pipeline\u001b[0m\u001b[0;34m,\u001b[0m \u001b[0mconfig\u001b[0m\u001b[0;34m=\u001b[0m\u001b[0mconfig\u001b[0m\u001b[0;34m,\u001b[0m \u001b[0mdebug\u001b[0m\u001b[0;34m=\u001b[0m\u001b[0;32mFalse\u001b[0m\u001b[0;34m)\u001b[0m\u001b[0;34m\u001b[0m\u001b[0;34m\u001b[0m\u001b[0m\n\u001b[1;32m      3\u001b[0m \u001b[0;32mwith\u001b[0m \u001b[0mPool\u001b[0m\u001b[0;34m(\u001b[0m\u001b[0;36m6\u001b[0m\u001b[0;34m)\u001b[0m \u001b[0;32mas\u001b[0m \u001b[0mp\u001b[0m\u001b[0;34m:\u001b[0m\u001b[0;34m\u001b[0m\u001b[0;34m\u001b[0m\u001b[0m\n\u001b[0;32m----> 4\u001b[0;31m         \u001b[0mp\u001b[0m\u001b[0;34m.\u001b[0m\u001b[0mmap\u001b[0m\u001b[0;34m(\u001b[0m\u001b[0mf\u001b[0m\u001b[0;34m,\u001b[0m \u001b[0mglob\u001b[0m\u001b[0;34m.\u001b[0m\u001b[0mglob\u001b[0m\u001b[0;34m(\u001b[0m\u001b[0;34m\"../svgs/*.svg\"\u001b[0m\u001b[0;34m)\u001b[0m\u001b[0;34m[\u001b[0m\u001b[0;34m:\u001b[0m\u001b[0;36m10\u001b[0m\u001b[0;34m]\u001b[0m\u001b[0;34m)\u001b[0m\u001b[0;34m\u001b[0m\u001b[0;34m\u001b[0m\u001b[0m\n\u001b[0m",
      "\u001b[0;32m/usr/lib/python3.6/multiprocessing/pool.py\u001b[0m in \u001b[0;36mmap\u001b[0;34m(self, func, iterable, chunksize)\u001b[0m\n\u001b[1;32m    264\u001b[0m         \u001b[0;32min\u001b[0m \u001b[0ma\u001b[0m \u001b[0mlist\u001b[0m \u001b[0mthat\u001b[0m \u001b[0;32mis\u001b[0m \u001b[0mreturned\u001b[0m\u001b[0;34m.\u001b[0m\u001b[0;34m\u001b[0m\u001b[0;34m\u001b[0m\u001b[0m\n\u001b[1;32m    265\u001b[0m         '''\n\u001b[0;32m--> 266\u001b[0;31m         \u001b[0;32mreturn\u001b[0m \u001b[0mself\u001b[0m\u001b[0;34m.\u001b[0m\u001b[0m_map_async\u001b[0m\u001b[0;34m(\u001b[0m\u001b[0mfunc\u001b[0m\u001b[0;34m,\u001b[0m \u001b[0miterable\u001b[0m\u001b[0;34m,\u001b[0m \u001b[0mmapstar\u001b[0m\u001b[0;34m,\u001b[0m \u001b[0mchunksize\u001b[0m\u001b[0;34m)\u001b[0m\u001b[0;34m.\u001b[0m\u001b[0mget\u001b[0m\u001b[0;34m(\u001b[0m\u001b[0;34m)\u001b[0m\u001b[0;34m\u001b[0m\u001b[0;34m\u001b[0m\u001b[0m\n\u001b[0m\u001b[1;32m    267\u001b[0m \u001b[0;34m\u001b[0m\u001b[0m\n\u001b[1;32m    268\u001b[0m     \u001b[0;32mdef\u001b[0m \u001b[0mstarmap\u001b[0m\u001b[0;34m(\u001b[0m\u001b[0mself\u001b[0m\u001b[0;34m,\u001b[0m \u001b[0mfunc\u001b[0m\u001b[0;34m,\u001b[0m \u001b[0miterable\u001b[0m\u001b[0;34m,\u001b[0m \u001b[0mchunksize\u001b[0m\u001b[0;34m=\u001b[0m\u001b[0;32mNone\u001b[0m\u001b[0;34m)\u001b[0m\u001b[0;34m:\u001b[0m\u001b[0;34m\u001b[0m\u001b[0;34m\u001b[0m\u001b[0m\n",
      "\u001b[0;32m/usr/lib/python3.6/multiprocessing/pool.py\u001b[0m in \u001b[0;36mget\u001b[0;34m(self, timeout)\u001b[0m\n\u001b[1;32m    642\u001b[0m             \u001b[0;32mreturn\u001b[0m \u001b[0mself\u001b[0m\u001b[0;34m.\u001b[0m\u001b[0m_value\u001b[0m\u001b[0;34m\u001b[0m\u001b[0;34m\u001b[0m\u001b[0m\n\u001b[1;32m    643\u001b[0m         \u001b[0;32melse\u001b[0m\u001b[0;34m:\u001b[0m\u001b[0;34m\u001b[0m\u001b[0;34m\u001b[0m\u001b[0m\n\u001b[0;32m--> 644\u001b[0;31m             \u001b[0;32mraise\u001b[0m \u001b[0mself\u001b[0m\u001b[0;34m.\u001b[0m\u001b[0m_value\u001b[0m\u001b[0;34m\u001b[0m\u001b[0;34m\u001b[0m\u001b[0m\n\u001b[0m\u001b[1;32m    645\u001b[0m \u001b[0;34m\u001b[0m\u001b[0m\n\u001b[1;32m    646\u001b[0m     \u001b[0;32mdef\u001b[0m \u001b[0m_set\u001b[0m\u001b[0;34m(\u001b[0m\u001b[0mself\u001b[0m\u001b[0;34m,\u001b[0m \u001b[0mi\u001b[0m\u001b[0;34m,\u001b[0m \u001b[0mobj\u001b[0m\u001b[0;34m)\u001b[0m\u001b[0;34m:\u001b[0m\u001b[0;34m\u001b[0m\u001b[0;34m\u001b[0m\u001b[0m\n",
      "\u001b[0;31mIndexError\u001b[0m: index 706 is out of bounds for axis 0 with size 700"
     ]
    }
   ],
   "source": [
    "config = OmegaConf.load(\"../pipeline/config.yaml\")\n",
    "f = functools.partial(run_pipeline, config=config, debug=False)\n",
    "with Pool(6) as p:\n",
    "        p.map(f, glob.glob(\"../svgs/*.svg\")[:10])"
   ]
  },
  {
   "cell_type": "code",
   "execution_count": null,
   "id": "530548e9",
   "metadata": {},
   "outputs": [],
   "source": []
  }
 ],
 "metadata": {
  "kernelspec": {
   "display_name": "Python 3",
   "language": "python",
   "name": "python3"
  },
  "language_info": {
   "codemirror_mode": {
    "name": "ipython",
    "version": 3
   },
   "file_extension": ".py",
   "mimetype": "text/x-python",
   "name": "python",
   "nbconvert_exporter": "python",
   "pygments_lexer": "ipython3",
   "version": "3.6.9"
  }
 },
 "nbformat": 4,
 "nbformat_minor": 5
}
