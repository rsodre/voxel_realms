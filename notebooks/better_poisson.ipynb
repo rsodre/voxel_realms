{
 "cells": [
  {
   "cell_type": "code",
   "execution_count": 2,
   "id": "c12344ff",
   "metadata": {},
   "outputs": [
    {
     "name": "stdout",
     "output_type": "stream",
     "text": [
      "63.7 ms ± 412 µs per loop (mean ± std. dev. of 7 runs, 10 loops each)\n"
     ]
    }
   ],
   "source": [
    "# credits to https://github.com/emulbreh/bridson\n",
    "\n",
    "from random import random, Random\n",
    "from math import cos, sin, floor, sqrt, pi, ceil\n",
    "\n",
    "def euclidean_distance(a, b):\n",
    "    dx = a[0] - b[0]\n",
    "    dy = a[1] - b[1]\n",
    "    return dx * dx + dy * dy\n",
    "\n",
    "\n",
    "def poisson_disc_samples(width, height, r, k=5, distance=euclidean_distance, random=random):\n",
    "    tau = 2 * pi\n",
    "    cellsize = r / sqrt(2)\n",
    "\n",
    "    grid_width = int(ceil(width / cellsize))\n",
    "    grid_height = int(ceil(height / cellsize))\n",
    "    grid = [None] * (grid_width * grid_height)\n",
    "\n",
    "    def grid_coords(p):\n",
    "        return int(floor(p[0] / cellsize)), int(floor(p[1] / cellsize))\n",
    "\n",
    "    def fits(p, gx, gy):\n",
    "        yrange = list(range(max(gy - 2, 0), min(gy + 3, grid_height)))\n",
    "        sq_r = r*r\n",
    "        for x in range(max(gx - 2, 0), min(gx + 3, grid_width)):\n",
    "            for y in yrange:\n",
    "                g = grid[x + y * grid_width]\n",
    "                if g is None:\n",
    "                    continue\n",
    "                if distance(p, g) <= sq_r:\n",
    "                    return False\n",
    "        return True\n",
    "\n",
    "    p = width * random(), height * random()\n",
    "    queue = [p]\n",
    "    grid_x, grid_y = grid_coords(p)\n",
    "    grid[grid_x + grid_y * grid_width] = p\n",
    "\n",
    "    while queue:\n",
    "        qi = int(random() * len(queue))\n",
    "        qx, qy = queue[qi]\n",
    "        queue[qi] = queue[-1]\n",
    "        queue.pop()\n",
    "        for _ in range(k):\n",
    "            alpha = tau * random()\n",
    "            d = r * sqrt(3 * random() + 1)\n",
    "            px = qx + d * cos(alpha)\n",
    "            py = qy + d * sin(alpha)\n",
    "            if not (0 <= px < width and 0 <= py < height):\n",
    "                continue\n",
    "            p = (px, py)\n",
    "            grid_x, grid_y = grid_coords(p)\n",
    "            if not fits(p, grid_x, grid_y):\n",
    "                continue\n",
    "            queue.append(p)\n",
    "            grid[grid_x + grid_y * grid_width] = p\n",
    "    return [p for p in grid if p is not None]\n",
    "\n",
    "\n",
    "prng = Random()\n",
    "prng.seed(42)\n",
    "%timeit poisson_disc_samples(1000, 1000, r=10, random=prng.random)"
   ]
  },
  {
   "cell_type": "code",
   "execution_count": null,
   "id": "62f492bb",
   "metadata": {},
   "outputs": [],
   "source": []
  }
 ],
 "metadata": {
  "kernelspec": {
   "display_name": "Python 3 (ipykernel)",
   "language": "python",
   "name": "python3"
  },
  "language_info": {
   "codemirror_mode": {
    "name": "ipython",
    "version": 3
   },
   "file_extension": ".py",
   "mimetype": "text/x-python",
   "name": "python",
   "nbconvert_exporter": "python",
   "pygments_lexer": "ipython3",
   "version": "3.9.6"
  }
 },
 "nbformat": 4,
 "nbformat_minor": 5
}
